{
 "cells": [
  {
   "cell_type": "code",
   "execution_count": 96,
   "id": "4911453d",
   "metadata": {},
   "outputs": [],
   "source": [
    "import pandas as pd\n",
    "import numpy as np\n",
    "from ast import literal_eval\n",
    "\n",
    "from sklearn.preprocessing import MultiLabelBinarizer\n",
    "import gensim.corpora as corpora\n",
    "import gensim\n",
    "import joblib\n",
    "\n",
    "from sklearn.feature_extraction.text import TfidfVectorizer\n",
    "from sklearn.model_selection import train_test_split\n",
    "from sklearn.model_selection import GridSearchCV\n",
    "from sklearn.multiclass import OneVsRestClassifier\n",
    "from sklearn.linear_model import LogisticRegression\n",
    "import sklearn.metrics as metrics"
   ]
  },
  {
   "cell_type": "code",
   "execution_count": 97,
   "id": "4199cad0",
   "metadata": {},
   "outputs": [
    {
     "data": {
      "text/html": [
       "<div>\n",
       "<style scoped>\n",
       "    .dataframe tbody tr th:only-of-type {\n",
       "        vertical-align: middle;\n",
       "    }\n",
       "\n",
       "    .dataframe tbody tr th {\n",
       "        vertical-align: top;\n",
       "    }\n",
       "\n",
       "    .dataframe thead th {\n",
       "        text-align: right;\n",
       "    }\n",
       "</style>\n",
       "<table border=\"1\" class=\"dataframe\">\n",
       "  <thead>\n",
       "    <tr style=\"text-align: right;\">\n",
       "      <th></th>\n",
       "      <th>Id</th>\n",
       "      <th>MainTags</th>\n",
       "      <th>MainWordBody</th>\n",
       "      <th>MainWordTitle</th>\n",
       "    </tr>\n",
       "  </thead>\n",
       "  <tbody>\n",
       "    <tr>\n",
       "      <th>0</th>\n",
       "      <td>7477</td>\n",
       "      <td>[javascript, html, css]</td>\n",
       "      <td>[sale, application, company, form, user, deliv...</td>\n",
       "      <td>[textarea, prototype]</td>\n",
       "    </tr>\n",
       "    <tr>\n",
       "      <th>1</th>\n",
       "      <td>7492</td>\n",
       "      <td>[performance]</td>\n",
       "      <td>[past, microsoft, web, application, stress, to...</td>\n",
       "      <td>[stress, test, web, application]</td>\n",
       "    </tr>\n",
       "    <tr>\n",
       "      <th>2</th>\n",
       "      <td>17806</td>\n",
       "      <td>[.net]</td>\n",
       "      <td>[application, project, project, others, projec...</td>\n",
       "      <td>[warning, conflict, version, assembly]</td>\n",
       "    </tr>\n",
       "    <tr>\n",
       "      <th>3</th>\n",
       "      <td>8896</td>\n",
       "      <td>[c, #, c++, windows]</td>\n",
       "      <td>[window, environment, solution, aspnet, mvc, s...</td>\n",
       "      <td>[window, environment]</td>\n",
       "    </tr>\n",
       "    <tr>\n",
       "      <th>4</th>\n",
       "      <td>8948</td>\n",
       "      <td>[python]</td>\n",
       "      <td>[metadata, python]</td>\n",
       "      <td>[metadata, python]</td>\n",
       "    </tr>\n",
       "  </tbody>\n",
       "</table>\n",
       "</div>"
      ],
      "text/plain": [
       "      Id                 MainTags  \\\n",
       "0   7477  [javascript, html, css]   \n",
       "1   7492            [performance]   \n",
       "2  17806                   [.net]   \n",
       "3   8896     [c, #, c++, windows]   \n",
       "4   8948                 [python]   \n",
       "\n",
       "                                        MainWordBody  \\\n",
       "0  [sale, application, company, form, user, deliv...   \n",
       "1  [past, microsoft, web, application, stress, to...   \n",
       "2  [application, project, project, others, projec...   \n",
       "3  [window, environment, solution, aspnet, mvc, s...   \n",
       "4                                 [metadata, python]   \n",
       "\n",
       "                            MainWordTitle  \n",
       "0                   [textarea, prototype]  \n",
       "1        [stress, test, web, application]  \n",
       "2  [warning, conflict, version, assembly]  \n",
       "3                   [window, environment]  \n",
       "4                      [metadata, python]  "
      ]
     },
     "execution_count": 97,
     "metadata": {},
     "output_type": "execute_result"
    }
   ],
   "source": [
    "data = pd.read_csv(\"../QueryResults_Clear.csv\",\n",
    "                   converters={\"MainWordTitle\": literal_eval,\n",
    "                               \"MainWordBody\": literal_eval,\n",
    "                               \"MainTags\": literal_eval})\n",
    "data.head()"
   ]
  },
  {
   "cell_type": "code",
   "execution_count": 98,
   "id": "d02dddd5",
   "metadata": {},
   "outputs": [
    {
     "data": {
      "text/plain": [
       "0        [sale, application, company, form, user, deliv...\n",
       "1        [past, microsoft, web, application, stress, to...\n",
       "2        [application, project, project, others, projec...\n",
       "3        [window, environment, solution, aspnet, mvc, s...\n",
       "4                     [metadata, python, metadata, python]\n",
       "                               ...                        \n",
       "19388    [python, ubuntu, lts, link, doubt, resource, c...\n",
       "19389    [repository, commit, repository, github, diffe...\n",
       "19390    [module, routing, state, user, search, documen...\n",
       "19391    [question, target, rgb, color, formula, black,...\n",
       "19392    [studio, type, class, library, class, library,...\n",
       "Length: 19393, dtype: object"
      ]
     },
     "execution_count": 98,
     "metadata": {},
     "output_type": "execute_result"
    }
   ],
   "source": [
    "Xall = data['MainWordBody'] + data['MainWordTitle']\n",
    "\n",
    "Y = data['MainTags']\n",
    "# Binarise multilabel\n",
    "multilabel_binarizer = MultiLabelBinarizer()\n",
    "multilabel_binarizer.fit(Y)\n",
    "Y_multi = multilabel_binarizer.transform(Y)\n",
    "\n",
    "Xall"
   ]
  },
  {
   "cell_type": "code",
   "execution_count": 99,
   "id": "45a1709d",
   "metadata": {},
   "outputs": [],
   "source": [
    "#Init TFIDF vector\n",
    "vectorizer = TfidfVectorizer(analyzer=\"word\",\n",
    "                             max_df=.6,\n",
    "                             min_df=0.005,\n",
    "                             tokenizer=None,\n",
    "                             preprocessor=' '.join,\n",
    "                             stop_words=None,\n",
    "                             lowercase=False)\n",
    "vectorizer.fit(Xall)\n",
    "X_tfidf = vectorizer.transform(Xall)"
   ]
  },
  {
   "cell_type": "code",
   "execution_count": 100,
   "id": "c4afda82",
   "metadata": {},
   "outputs": [
    {
     "data": {
      "text/plain": [
       "[[('address', 5),\n",
       "  ('application', 1),\n",
       "  ('area', 4),\n",
       "  ('bit', 1),\n",
       "  ('character', 1),\n",
       "  ('chris', 1),\n",
       "  ('code', 1),\n",
       "  ('company', 1),\n",
       "  ('consideration', 1),\n",
       "  ('delivery', 1),\n",
       "  ('detail', 1),\n",
       "  ('field', 1),\n",
       "  ('font', 1),\n",
       "  ('form', 1),\n",
       "  ('idea', 1),\n",
       "  ('information', 1),\n",
       "  ('iso', 1),\n",
       "  ('keyup', 1),\n",
       "  ('line', 2),\n",
       "  ('number', 1),\n",
       "  ('people', 1),\n",
       "  ('point', 1),\n",
       "  ('problem', 3),\n",
       "  ('prototype', 1),\n",
       "  ('reason', 1),\n",
       "  ('resizing', 1),\n",
       "  ('sale', 1),\n",
       "  ('screen', 1),\n",
       "  ('screenshot', 2),\n",
       "  ('scrollbar', 1),\n",
       "  ('shot', 1),\n",
       "  ('size', 1),\n",
       "  ('space', 2),\n",
       "  ('text', 5),\n",
       "  ('textarea', 3),\n",
       "  ('user', 3),\n",
       "  ('way', 1),\n",
       "  ('width', 1),\n",
       "  ('window', 1)]]"
      ]
     },
     "execution_count": 100,
     "metadata": {},
     "output_type": "execute_result"
    }
   ],
   "source": [
    "# Bag of words\n",
    "bagOfWords = corpora.Dictionary(Xall)\n",
    "bagOfWords.filter_extremes(no_below=4, no_above=0.6, keep_n=None)\n",
    "\n",
    "# Term Document Frequency \n",
    "corpus = [bagOfWords.doc2bow(text) for text in Xall]  \n",
    "# View \n",
    "[[(bagOfWords[id], freq) for id, freq in cp] for cp in corpus[:1]]"
   ]
  },
  {
   "cell_type": "code",
   "execution_count": 101,
   "id": "6f948db8",
   "metadata": {},
   "outputs": [],
   "source": [
    "metricsEval = pd.DataFrame(columns=[\"nom\",\"Accuracy\",\"Jaccard\",\"Precision\"])"
   ]
  },
  {
   "cell_type": "code",
   "execution_count": 102,
   "id": "5867af1c",
   "metadata": {},
   "outputs": [],
   "source": [
    "# calcul de metrics\n",
    "def calculMetric(model,y,y_pred):\n",
    "    locData = [model]\n",
    "    acc = metrics.accuracy_score(y,y_pred)\n",
    "    locData.append(acc)\n",
    "    jac = metrics.jaccard_score(y,y_pred,average='weighted')\n",
    "    locData.append(jac)\n",
    "    prec = metrics.precision_score(y,y_pred,average='weighted')\n",
    "    locData.append(prec)\n",
    "    \n",
    "    metricsEval.loc[len(metricsEval)]=locData"
   ]
  },
  {
   "cell_type": "markdown",
   "id": "79c6f42e",
   "metadata": {},
   "source": [
    "# LDA"
   ]
  },
  {
   "cell_type": "code",
   "execution_count": 103,
   "id": "bef73efc",
   "metadata": {},
   "outputs": [],
   "source": [
    "lda_model = gensim.models.ldamulticore\\\n",
    "                    .LdaMulticore(corpus=corpus,\n",
    "                                  id2word=bagOfWords,\n",
    "                                  num_topics=20,\n",
    "                                  random_state=8,\n",
    "                                  per_word_topics=True,\n",
    "                                  workers=4)"
   ]
  },
  {
   "cell_type": "code",
   "execution_count": 104,
   "id": "576eb3c6",
   "metadata": {},
   "outputs": [],
   "source": [
    "# Calculate Document/topic matrix with Gensim\n",
    "doc_topic = pd.DataFrame(lda_model.get_document_topics(corpus,\n",
    "                                                  minimum_probability=0))\n",
    "for topic in doc_topic.columns:\n",
    "    doc_topic[topic] = doc_topic[topic].apply(lambda x : x[1])"
   ]
  },
  {
   "cell_type": "code",
   "execution_count": 105,
   "id": "5a1f066e",
   "metadata": {},
   "outputs": [],
   "source": [
    "# Matricial multiplication with Document / Topics transpose\n",
    "topic_tag = np.matmul(doc_topic.T, Y_multi)"
   ]
  },
  {
   "cell_type": "code",
   "execution_count": 106,
   "id": "d7cc16c3",
   "metadata": {},
   "outputs": [],
   "source": [
    "y_results = pd.DataFrame(Y)\n",
    "y_results[\"best_topic\"] = doc_topic.idxmax(axis=1).values\n",
    "y_results[\"nb_tags\"] = y_results[\"MainTags\"].apply(lambda x : len(x))\n",
    "\n",
    "df_y_bin = pd.DataFrame(Y_multi)\n",
    "df_dict = dict(\n",
    "    list(\n",
    "        df_y_bin.groupby(df_y_bin.index)\n",
    "    )\n",
    ")\n",
    "\n",
    "tags_num = []\n",
    "for k, v in df_dict.items():\n",
    "    check = v.columns[(v == 1).any()]\n",
    "    tags_num.append(check.to_list())\n",
    "\n",
    "y_results[\"y_true\"] = tags_num"
   ]
  },
  {
   "cell_type": "code",
   "execution_count": 107,
   "id": "1ce7601e",
   "metadata": {},
   "outputs": [],
   "source": [
    "# Select predicted tags in Topics / Tags matrix\n",
    "list_tag = []\n",
    "for row in y_results.itertuples():\n",
    "    nb_tags = row.nb_tags\n",
    "    best_topic = row.best_topic\n",
    "    row_tags = list(topic_tag.iloc[best_topic]\\\n",
    "                    .sort_values(ascending=False)[0:nb_tags].index)\n",
    "    list_tag.append(row_tags)\n",
    "    \n",
    "y_results[\"y_pred\"] = list_tag"
   ]
  },
  {
   "cell_type": "code",
   "execution_count": 108,
   "id": "65cd76e9",
   "metadata": {},
   "outputs": [],
   "source": [
    "# Create matrix for pred and true y LDA\n",
    "lda_y_pred = np.zeros(Y_multi.shape)\n",
    "n = 0\n",
    "for row in y_results.y_pred.values:\n",
    "    for i in range(len(row)):\n",
    "        lda_y_pred[n,row[i]] = 1\n",
    "    n+=1\n",
    "    \n",
    "lda_y_true = np.zeros(Y_multi.shape)\n",
    "m = 0\n",
    "for row in y_results.y_true.values:\n",
    "    for i in range(len(row)):\n",
    "        lda_y_true[m,row[i]] = 1\n",
    "    m+=1"
   ]
  },
  {
   "cell_type": "code",
   "execution_count": 109,
   "id": "4390a84f",
   "metadata": {},
   "outputs": [
    {
     "name": "stderr",
     "output_type": "stream",
     "text": [
      "/home/kro/anaconda3/lib/python3.8/site-packages/sklearn/metrics/_classification.py:1245: UndefinedMetricWarning: Precision is ill-defined and being set to 0.0 in labels with no predicted samples. Use `zero_division` parameter to control this behavior.\n",
      "  _warn_prf(average, modifier, msg_start, len(result))\n"
     ]
    }
   ],
   "source": [
    "calculMetric(\"LDA\",lda_y_true,lda_y_pred)"
   ]
  },
  {
   "cell_type": "markdown",
   "id": "4934bbd0",
   "metadata": {},
   "source": [
    "# Regression linéaire"
   ]
  },
  {
   "cell_type": "code",
   "execution_count": 110,
   "id": "97861cab",
   "metadata": {},
   "outputs": [],
   "source": [
    "# Create train and test split (80%)\n",
    "X_train, X_test, y_train, y_test = train_test_split(X_tfidf, Y_multi,\n",
    "                                                    test_size=0.2)"
   ]
  },
  {
   "cell_type": "code",
   "execution_count": 111,
   "id": "bdb9bad5",
   "metadata": {},
   "outputs": [
    {
     "data": {
      "text/plain": [
       "GridSearchCV(cv=5,\n",
       "             estimator=OneVsRestClassifier(estimator=LogisticRegression()),\n",
       "             n_jobs=-1,\n",
       "             param_grid={'estimator__C': [100, 10, 1.0, 0.1],\n",
       "                         'estimator__dual': [False],\n",
       "                         'estimator__penalty': ['l1', 'l2'],\n",
       "                         'estimator__solver': ['liblinear']},\n",
       "             return_train_score=True, scoring='f1_weighted')"
      ]
     },
     "execution_count": 111,
     "metadata": {},
     "output_type": "execute_result"
    }
   ],
   "source": [
    "param_logit = {\"estimator__C\": [100, 10, 1.0, 0.1],\n",
    "               \"estimator__penalty\": [\"l1\", \"l2\"],\n",
    "               \"estimator__dual\": [False],\n",
    "               \"estimator__solver\": [\"liblinear\"]}\n",
    "\n",
    "multi_logit_cv = GridSearchCV(OneVsRestClassifier(LogisticRegression()),\n",
    "                              param_grid=param_logit,\n",
    "                              n_jobs=-1,\n",
    "                              cv=5,\n",
    "                              scoring=\"f1_weighted\",\n",
    "                              return_train_score = True,\n",
    "                              refit=True)\n",
    "\n",
    "multi_logit_cv.fit(X_train, y_train)"
   ]
  },
  {
   "cell_type": "code",
   "execution_count": 112,
   "id": "a662d854",
   "metadata": {},
   "outputs": [
    {
     "name": "stdout",
     "output_type": "stream",
     "text": [
      "{'estimator__C': 10, 'estimator__dual': False, 'estimator__penalty': 'l1', 'estimator__solver': 'liblinear'}\n"
     ]
    }
   ],
   "source": [
    "print(multi_logit_cv.best_params_)"
   ]
  },
  {
   "cell_type": "code",
   "execution_count": 113,
   "id": "dcf71015",
   "metadata": {},
   "outputs": [
    {
     "name": "stdout",
     "output_type": "stream",
     "text": [
      "[(), (), (), (), ()]\n",
      "----------\n",
      "[('javascript', 'performance'), ('ruby',), ('java',), ('java',), ('android', 'java')]\n"
     ]
    }
   ],
   "source": [
    "# Predict\n",
    "y_pred_logreg = multi_logit_cv.predict(X_test)\n",
    "# Inverse transform\n",
    "y_pred_inversed = multilabel_binarizer.inverse_transform(y_pred_logreg)\n",
    "y_inversed = multilabel_binarizer.inverse_transform(y_test)\n",
    "\n",
    "print(y_pred_inversed[0:5])\n",
    "print('-'*10)\n",
    "print(y_inversed[0:5])"
   ]
  },
  {
   "cell_type": "code",
   "execution_count": 114,
   "id": "2a01a9e3",
   "metadata": {},
   "outputs": [],
   "source": [
    "calculMetric(\"RegLog\",y_test,y_pred_logreg)"
   ]
  },
  {
   "cell_type": "code",
   "execution_count": 115,
   "id": "ab09f559",
   "metadata": {},
   "outputs": [
    {
     "name": "stdout",
     "output_type": "stream",
     "text": [
      "      nom  Accuracy   Jaccard  Precision\n",
      "0     LDA  0.156964  0.090159   0.184534\n",
      "1  RegLog  0.389791  0.451121   0.736817\n"
     ]
    }
   ],
   "source": [
    "print(metricsEval)"
   ]
  },
  {
   "cell_type": "markdown",
   "id": "4591588a",
   "metadata": {},
   "source": [
    "# Export pkl"
   ]
  },
  {
   "cell_type": "code",
   "execution_count": 117,
   "id": "631e8898",
   "metadata": {},
   "outputs": [
    {
     "data": {
      "text/plain": [
       "['multilabel_binarizer.pkl']"
      ]
     },
     "execution_count": 117,
     "metadata": {},
     "output_type": "execute_result"
    }
   ],
   "source": [
    "joblib.dump(multi_logit_cv,'logit_nlp_model.pkl')\n",
    "joblib.dump(vectorizer,'tfidf_vectorizer.pkl')\n",
    "joblib.dump(multilabel_binarizer,'multilabel_binarizer.pkl')"
   ]
  },
  {
   "cell_type": "code",
   "execution_count": null,
   "id": "72042a0e",
   "metadata": {},
   "outputs": [],
   "source": []
  },
  {
   "cell_type": "code",
   "execution_count": null,
   "id": "ccb323b5",
   "metadata": {},
   "outputs": [],
   "source": []
  },
  {
   "cell_type": "code",
   "execution_count": null,
   "id": "83841ff6",
   "metadata": {},
   "outputs": [],
   "source": []
  }
 ],
 "metadata": {
  "kernelspec": {
   "display_name": "Python 3",
   "language": "python",
   "name": "python3"
  },
  "language_info": {
   "codemirror_mode": {
    "name": "ipython",
    "version": 3
   },
   "file_extension": ".py",
   "mimetype": "text/x-python",
   "name": "python",
   "nbconvert_exporter": "python",
   "pygments_lexer": "ipython3",
   "version": "3.8.8"
  }
 },
 "nbformat": 4,
 "nbformat_minor": 5
}
