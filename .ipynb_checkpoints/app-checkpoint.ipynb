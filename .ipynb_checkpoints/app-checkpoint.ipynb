{
 "cells": [
  {
   "cell_type": "code",
   "execution_count": 1,
   "id": "ea2e50c0",
   "metadata": {},
   "outputs": [],
   "source": [
    "# -*- coding: utf-8 -*-\n",
    "from flask import Flask, render_template"
   ]
  },
  {
   "cell_type": "code",
   "execution_count": 6,
   "id": "a0e53e8b",
   "metadata": {},
   "outputs": [
    {
     "name": "stdout",
     "output_type": "stream",
     "text": [
      " * Serving Flask app \"__main__\" (lazy loading)\n",
      " * Environment: production\n",
      "\u001b[31m   WARNING: This is a development server. Do not use it in a production deployment.\u001b[0m\n",
      "\u001b[2m   Use a production WSGI server instead.\u001b[0m\n",
      " * Debug mode: off\n"
     ]
    },
    {
     "name": "stderr",
     "output_type": "stream",
     "text": [
      " * Running on http://127.0.0.1:5000/ (Press CTRL+C to quit)\n",
      "127.0.0.1 - - [26/Jul/2021 16:10:03] \"\u001b[37mGET / HTTP/1.1\u001b[0m\" 200 -\n",
      "[2021-07-26 16:10:12,037] ERROR in app: Exception on /dashboard/ [GET]\n",
      "Traceback (most recent call last):\n",
      "  File \"/home/kro/anaconda3/lib/python3.8/site-packages/flask/app.py\", line 2447, in wsgi_app\n",
      "    response = self.full_dispatch_request()\n",
      "  File \"/home/kro/anaconda3/lib/python3.8/site-packages/flask/app.py\", line 1952, in full_dispatch_request\n",
      "    rv = self.handle_user_exception(e)\n",
      "  File \"/home/kro/anaconda3/lib/python3.8/site-packages/flask/app.py\", line 1821, in handle_user_exception\n",
      "    reraise(exc_type, exc_value, tb)\n",
      "  File \"/home/kro/anaconda3/lib/python3.8/site-packages/flask/_compat.py\", line 39, in reraise\n",
      "    raise value\n",
      "  File \"/home/kro/anaconda3/lib/python3.8/site-packages/flask/app.py\", line 1950, in full_dispatch_request\n",
      "    rv = self.dispatch_request()\n",
      "  File \"/home/kro/anaconda3/lib/python3.8/site-packages/flask/app.py\", line 1936, in dispatch_request\n",
      "    return self.view_functions[rule.endpoint](**req.view_args)\n",
      "  File \"<ipython-input-6-bfb34b5c9b9f>\", line 10, in dashboard\n",
      "    return render_template(\"dashboard.html\")\n",
      "NameError: name 'render_template' is not defined\n",
      "127.0.0.1 - - [26/Jul/2021 16:10:12] \"\u001b[35m\u001b[1mGET /dashboard/ HTTP/1.1\u001b[0m\" 500 -\n"
     ]
    }
   ],
   "source": [
    "app = Flask(__name__)\n",
    "\n",
    "@app.route('/')\n",
    "def index():\n",
    "    return \"Hello World!\"\n",
    "\n",
    "\n",
    "@app.route('/dashboard/')\n",
    "def dashboard():\n",
    "    return render_template(\"dashboard.html\")\n",
    "    \n",
    "\n",
    "\n",
    "if __name__ == \"__main__\":\n",
    "    app.run()"
   ]
  },
  {
   "cell_type": "code",
   "execution_count": null,
   "id": "c6c72150",
   "metadata": {},
   "outputs": [],
   "source": []
  },
  {
   "cell_type": "code",
   "execution_count": null,
   "id": "27f62bca",
   "metadata": {},
   "outputs": [],
   "source": []
  },
  {
   "cell_type": "code",
   "execution_count": null,
   "id": "fd6d5620",
   "metadata": {},
   "outputs": [],
   "source": []
  },
  {
   "cell_type": "code",
   "execution_count": null,
   "id": "ef810baf",
   "metadata": {},
   "outputs": [],
   "source": []
  },
  {
   "cell_type": "code",
   "execution_count": 4,
   "id": "875f5167",
   "metadata": {},
   "outputs": [
    {
     "ename": "ModuleNotFoundError",
     "evalue": "No module named 'flasgger'",
     "output_type": "error",
     "traceback": [
      "\u001b[0;31m---------------------------------------------------------------------------\u001b[0m",
      "\u001b[0;31mModuleNotFoundError\u001b[0m                       Traceback (most recent call last)",
      "\u001b[0;32m<ipython-input-4-04b7ee207be7>\u001b[0m in \u001b[0;36m<module>\u001b[0;34m\u001b[0m\n\u001b[1;32m      1\u001b[0m \u001b[0;32mfrom\u001b[0m \u001b[0mflask\u001b[0m \u001b[0;32mimport\u001b[0m \u001b[0mFlask\u001b[0m\u001b[0;34m\u001b[0m\u001b[0;34m\u001b[0m\u001b[0m\n\u001b[0;32m----> 2\u001b[0;31m \u001b[0;32mfrom\u001b[0m \u001b[0mflasgger\u001b[0m \u001b[0;32mimport\u001b[0m \u001b[0mSwagger\u001b[0m\u001b[0;34m\u001b[0m\u001b[0;34m\u001b[0m\u001b[0m\n\u001b[0m\u001b[1;32m      3\u001b[0m \u001b[0;32mfrom\u001b[0m \u001b[0mflask_restful\u001b[0m \u001b[0;32mimport\u001b[0m \u001b[0mApi\u001b[0m\u001b[0;34m,\u001b[0m \u001b[0mResource\u001b[0m\u001b[0;34m\u001b[0m\u001b[0;34m\u001b[0m\u001b[0m\n\u001b[1;32m      4\u001b[0m \u001b[0;32mimport\u001b[0m \u001b[0mpandas\u001b[0m \u001b[0;32mas\u001b[0m \u001b[0mpd\u001b[0m\u001b[0;34m\u001b[0m\u001b[0;34m\u001b[0m\u001b[0m\n\u001b[1;32m      5\u001b[0m \u001b[0;32mimport\u001b[0m \u001b[0mjoblib\u001b[0m\u001b[0;34m\u001b[0m\u001b[0;34m\u001b[0m\u001b[0m\n",
      "\u001b[0;31mModuleNotFoundError\u001b[0m: No module named 'flasgger'"
     ]
    }
   ],
   "source": [
    "from flask import Flask\n",
    "from flasgger import Swagger\n",
    "from flask_restful import Api, Resource\n",
    "import pandas as pd\n",
    "import joblib\n",
    "import spacy\n",
    "import en_core_web_sm\n",
    "import preprocessing as ppc\n",
    "\n",
    "\n",
    "app = Flask(__name__)\n",
    "api = Api(app)\n",
    "\n",
    "template = {\n",
    "  \"swagger\": \"2.0\",\n",
    "  \"info\": {\n",
    "    \"title\": \"Stackoverflow tags predictor for question\",\n",
    "    \"description\": \"API to predict tags of a stackoverflow non-cleaned question. NLP preprocessing and LogisticRegression multi-labels predictions.\",\n",
    "    \"contact\": {\n",
    "      \"email\": \"michael@mf-data-science.fr\",\n",
    "      \"url\": \"http://www.mf-data-science.fr\",\n",
    "    },\n",
    "    \"version\": \"0.0.1\"\n",
    "  }\n",
    "}\n",
    "\n",
    "swagger = Swagger(app, template=template)\n",
    "# Load pre-trained models\n",
    "model_path = \"static/models/\"\n",
    "vectorizer = joblib.load(model_path + \"tfidf_vectorizer.pkl\", 'r')\n",
    "multilabel_binarizer = joblib.load(model_path + \"multilabel_binarizer.pkl\", 'r')\n",
    "model = joblib.load(model_path + \"logit_nlp_model.pkl\", 'r')\n",
    "\n",
    "class Autotag(Resource):\n",
    "    def get(self, question):\n",
    "        \"\"\"\n",
    "       This examples uses FlaskRESTful Resource for Stackoverflow auto-tagging questions\n",
    "       To test, copy and paste a non-cleaned question (even with HTML tags or code) and execute the model.\n",
    "       ---\n",
    "       parameters:\n",
    "         - in: path\n",
    "           name: question\n",
    "           type: string\n",
    "           required: true\n",
    "       responses:\n",
    "         '200':\n",
    "           description: Predicted list of tags and probabilities\n",
    "           content:\n",
    "               application/json:\n",
    "                   schema:\n",
    "                       type: object\n",
    "                       properties:\n",
    "                           Predicted_Tags:\n",
    "                               type: string\n",
    "                               description: List of predicted tags with over 50% of probabilities.\n",
    "                           Predicted_Tags_Probabilities:\n",
    "                               type: string\n",
    "                               description: List of tags with over 30% of probabilities\n",
    "        \"\"\"\n",
    "        # Clean the question sent\n",
    "        nlp = en_core_web_sm.load(exclude=['tok2vec', 'ner', 'parser', 'attribute_ruler', 'lemmatizer'])\n",
    "        #nlp = spacy.load('en_core_web_md', exclude=['tok2vec', 'ner', 'parser', 'attribute_ruler', 'lemmatizer'])\n",
    "        pos_list = [\"NOUN\",\"PROPN\"]\n",
    "        rawtext = question\n",
    "        cleaned_question = ppc.text_cleaner(rawtext, nlp, pos_list, \"english\")\n",
    "        \n",
    "        # Apply saved trained TfidfVectorizer\n",
    "        X_tfidf = vectorizer.transform([cleaned_question])\n",
    "        \n",
    "        # Perform prediction\n",
    "        predict = model.predict(X_tfidf)\n",
    "        predict_probas = model.predict_proba(X_tfidf)\n",
    "        # Inverse multilabel binarizer\n",
    "        tags_predict = multilabel_binarizer.inverse_transform(predict)\n",
    "        \n",
    "        # DataFrame of probas\n",
    "        df_predict_probas = pd.DataFrame(columns=['Tags', 'Probas'])\n",
    "        df_predict_probas['Tags'] = multilabel_binarizer.classes_\n",
    "        df_predict_probas['Probas'] = predict_probas.reshape(-1)\n",
    "        # Select probas > 33%\n",
    "        df_predict_probas = df_predict_probas[df_predict_probas['Probas']>=0.33]\\\n",
    "            .sort_values('Probas', ascending=False)\n",
    "            \n",
    "        # Results\n",
    "        results = {}\n",
    "        results['Predicted_Tags'] = tags_predict\n",
    "        results['Predicted_Tags_Probabilities'] = df_predict_probas\\\n",
    "            .set_index('Tags')['Probas'].to_dict()\n",
    "        \n",
    "        return results, 200\n",
    "\n",
    "\n",
    "api.add_resource(Autotag, '/autotag/<question>')\n",
    "\n",
    "if __name__ == \"__main__\":\n",
    "\tapp.run()"
   ]
  },
  {
   "cell_type": "code",
   "execution_count": null,
   "id": "1f8b8398",
   "metadata": {},
   "outputs": [],
   "source": []
  }
 ],
 "metadata": {
  "kernelspec": {
   "display_name": "Python 3",
   "language": "python",
   "name": "python3"
  },
  "language_info": {
   "codemirror_mode": {
    "name": "ipython",
    "version": 3
   },
   "file_extension": ".py",
   "mimetype": "text/x-python",
   "name": "python",
   "nbconvert_exporter": "python",
   "pygments_lexer": "ipython3",
   "version": "3.8.8"
  }
 },
 "nbformat": 4,
 "nbformat_minor": 5
}
