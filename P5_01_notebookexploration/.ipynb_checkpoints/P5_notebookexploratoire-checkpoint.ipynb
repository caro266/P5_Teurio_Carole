{
 "cells": [
  {
   "cell_type": "code",
   "execution_count": 108,
   "id": "9ccb3995",
   "metadata": {},
   "outputs": [],
   "source": [
    "import pandas as pd\n",
    "import matplotlib.pyplot as plt\n",
    "import datetime\n",
    "import nltk"
   ]
  },
  {
   "cell_type": "code",
   "execution_count": 107,
   "id": "bd797d82",
   "metadata": {},
   "outputs": [
    {
     "name": "stderr",
     "output_type": "stream",
     "text": [
      "[nltk_data] Downloading package punkt to /home/kro/nltk_data...\n",
      "[nltk_data]   Package punkt is already up-to-date!\n",
      "[nltk_data] Downloading package stopwords to /home/kro/nltk_data...\n",
      "[nltk_data]   Unzipping corpora/stopwords.zip.\n"
     ]
    },
    {
     "data": {
      "text/plain": [
       "True"
      ]
     },
     "execution_count": 107,
     "metadata": {},
     "output_type": "execute_result"
    }
   ],
   "source": [
    "nltk.download('punkt')\n",
    "nltk.download('stopwords')"
   ]
  },
  {
   "cell_type": "code",
   "execution_count": 84,
   "id": "43769ae1",
   "metadata": {},
   "outputs": [
    {
     "name": "stdout",
     "output_type": "stream",
     "text": [
      "<class 'pandas.core.frame.DataFrame'>\n",
      "RangeIndex: 26693 entries, 0 to 26692\n",
      "Data columns (total 23 columns):\n",
      " #   Column                 Non-Null Count  Dtype         \n",
      "---  ------                 --------------  -----         \n",
      " 0   Id                     26693 non-null  int64         \n",
      " 1   PostTypeId             26693 non-null  int64         \n",
      " 2   AcceptedAnswerId       4578 non-null   float64       \n",
      " 3   ParentId               21250 non-null  float64       \n",
      " 4   CreationDate           26693 non-null  datetime64[ns]\n",
      " 5   DeletionDate           0 non-null      float64       \n",
      " 6   Score                  26693 non-null  int64         \n",
      " 7   ViewCount              5443 non-null   float64       \n",
      " 8   Body                   26693 non-null  object        \n",
      " 9   OwnerUserId            26039 non-null  float64       \n",
      " 10  OwnerDisplayName       22486 non-null  object        \n",
      " 11  LastEditorUserId       11159 non-null  float64       \n",
      " 12  LastEditorDisplayName  6377 non-null   object        \n",
      " 13  LastEditDate           11347 non-null  object        \n",
      " 14  LastActivityDate       26693 non-null  object        \n",
      " 15  Title                  5443 non-null   object        \n",
      " 16  Tags                   5443 non-null   object        \n",
      " 17  AnswerCount            5443 non-null   float64       \n",
      " 18  CommentCount           26693 non-null  int64         \n",
      " 19  FavoriteCount          3920 non-null   float64       \n",
      " 20  ClosedDate             777 non-null    object        \n",
      " 21  CommunityOwnedDate     1423 non-null   object        \n",
      " 22  ContentLicense         26693 non-null  object        \n",
      "dtypes: datetime64[ns](1), float64(8), int64(4), object(10)\n",
      "memory usage: 4.7+ MB\n"
     ]
    }
   ],
   "source": [
    "dataStack = pd.read_csv(\"../QueryResults.csv\")\n",
    "dataStack[\"CreationDate\"] = pd.to_datetime(dataStack[\"CreationDate\"],format='%Y-%m-%d %H:%M:%S')\n",
    "dataStack.info()"
   ]
  },
  {
   "cell_type": "code",
   "execution_count": 85,
   "id": "fd42213a",
   "metadata": {},
   "outputs": [
    {
     "data": {
      "text/html": [
       "<div>\n",
       "<style scoped>\n",
       "    .dataframe tbody tr th:only-of-type {\n",
       "        vertical-align: middle;\n",
       "    }\n",
       "\n",
       "    .dataframe tbody tr th {\n",
       "        vertical-align: top;\n",
       "    }\n",
       "\n",
       "    .dataframe thead th {\n",
       "        text-align: right;\n",
       "    }\n",
       "</style>\n",
       "<table border=\"1\" class=\"dataframe\">\n",
       "  <thead>\n",
       "    <tr style=\"text-align: right;\">\n",
       "      <th></th>\n",
       "      <th>Id</th>\n",
       "      <th>PostTypeId</th>\n",
       "      <th>AcceptedAnswerId</th>\n",
       "      <th>ParentId</th>\n",
       "      <th>CreationDate</th>\n",
       "      <th>DeletionDate</th>\n",
       "      <th>Score</th>\n",
       "      <th>ViewCount</th>\n",
       "      <th>Body</th>\n",
       "      <th>OwnerUserId</th>\n",
       "      <th>...</th>\n",
       "      <th>LastEditDate</th>\n",
       "      <th>LastActivityDate</th>\n",
       "      <th>Title</th>\n",
       "      <th>Tags</th>\n",
       "      <th>AnswerCount</th>\n",
       "      <th>CommentCount</th>\n",
       "      <th>FavoriteCount</th>\n",
       "      <th>ClosedDate</th>\n",
       "      <th>CommunityOwnedDate</th>\n",
       "      <th>ContentLicense</th>\n",
       "    </tr>\n",
       "  </thead>\n",
       "  <tbody>\n",
       "    <tr>\n",
       "      <th>0</th>\n",
       "      <td>4</td>\n",
       "      <td>1</td>\n",
       "      <td>7.0</td>\n",
       "      <td>NaN</td>\n",
       "      <td>2008-07-31 21:42:52</td>\n",
       "      <td>NaN</td>\n",
       "      <td>724</td>\n",
       "      <td>58446.0</td>\n",
       "      <td>&lt;p&gt;I want to use a &lt;code&gt;Track-Bar&lt;/code&gt; to c...</td>\n",
       "      <td>8.0</td>\n",
       "      <td>...</td>\n",
       "      <td>2021-02-26 03:31:15</td>\n",
       "      <td>2021-02-26 03:31:15</td>\n",
       "      <td>How to convert a Decimal to a Double in C#?</td>\n",
       "      <td>&lt;c#&gt;&lt;floating-point&gt;&lt;type-conversion&gt;&lt;double&gt;&lt;...</td>\n",
       "      <td>14.0</td>\n",
       "      <td>5</td>\n",
       "      <td>54.0</td>\n",
       "      <td>NaN</td>\n",
       "      <td>2012-10-31 16:42:47</td>\n",
       "      <td>CC BY-SA 4.0</td>\n",
       "    </tr>\n",
       "    <tr>\n",
       "      <th>1</th>\n",
       "      <td>6</td>\n",
       "      <td>1</td>\n",
       "      <td>31.0</td>\n",
       "      <td>NaN</td>\n",
       "      <td>2008-07-31 22:08:08</td>\n",
       "      <td>NaN</td>\n",
       "      <td>306</td>\n",
       "      <td>21619.0</td>\n",
       "      <td>&lt;p&gt;I have an absolutely positioned &lt;code&gt;div&lt;/...</td>\n",
       "      <td>9.0</td>\n",
       "      <td>...</td>\n",
       "      <td>2021-01-29 18:46:45</td>\n",
       "      <td>2021-01-29 18:46:45</td>\n",
       "      <td>Why did the width collapse in the percentage w...</td>\n",
       "      <td>&lt;html&gt;&lt;css&gt;&lt;internet-explorer-7&gt;</td>\n",
       "      <td>7.0</td>\n",
       "      <td>0</td>\n",
       "      <td>12.0</td>\n",
       "      <td>NaN</td>\n",
       "      <td>NaN</td>\n",
       "      <td>CC BY-SA 4.0</td>\n",
       "    </tr>\n",
       "    <tr>\n",
       "      <th>2</th>\n",
       "      <td>7</td>\n",
       "      <td>2</td>\n",
       "      <td>NaN</td>\n",
       "      <td>4.0</td>\n",
       "      <td>2008-07-31 22:17:57</td>\n",
       "      <td>NaN</td>\n",
       "      <td>482</td>\n",
       "      <td>NaN</td>\n",
       "      <td>&lt;p&gt;An explicit cast to &lt;code&gt;double&lt;/code&gt; lik...</td>\n",
       "      <td>9.0</td>\n",
       "      <td>...</td>\n",
       "      <td>2019-10-21 14:03:54</td>\n",
       "      <td>2019-10-21 14:03:54</td>\n",
       "      <td>NaN</td>\n",
       "      <td>NaN</td>\n",
       "      <td>NaN</td>\n",
       "      <td>0</td>\n",
       "      <td>NaN</td>\n",
       "      <td>NaN</td>\n",
       "      <td>NaN</td>\n",
       "      <td>CC BY-SA 4.0</td>\n",
       "    </tr>\n",
       "    <tr>\n",
       "      <th>3</th>\n",
       "      <td>9</td>\n",
       "      <td>1</td>\n",
       "      <td>1404.0</td>\n",
       "      <td>NaN</td>\n",
       "      <td>2008-07-31 23:40:59</td>\n",
       "      <td>NaN</td>\n",
       "      <td>2026</td>\n",
       "      <td>682001.0</td>\n",
       "      <td>&lt;p&gt;Given a &lt;code&gt;DateTime&lt;/code&gt; representing ...</td>\n",
       "      <td>1.0</td>\n",
       "      <td>...</td>\n",
       "      <td>2021-01-05 17:33:32</td>\n",
       "      <td>2021-01-30 08:44:27</td>\n",
       "      <td>How do I calculate someone's age based on a Da...</td>\n",
       "      <td>&lt;c#&gt;&lt;.net&gt;&lt;datetime&gt;</td>\n",
       "      <td>64.0</td>\n",
       "      <td>9</td>\n",
       "      <td>476.0</td>\n",
       "      <td>NaN</td>\n",
       "      <td>2011-08-16 19:40:43</td>\n",
       "      <td>CC BY-SA 4.0</td>\n",
       "    </tr>\n",
       "    <tr>\n",
       "      <th>4</th>\n",
       "      <td>11</td>\n",
       "      <td>1</td>\n",
       "      <td>1248.0</td>\n",
       "      <td>NaN</td>\n",
       "      <td>2008-07-31 23:55:37</td>\n",
       "      <td>NaN</td>\n",
       "      <td>1579</td>\n",
       "      <td>177528.0</td>\n",
       "      <td>&lt;p&gt;Given a specific &lt;code&gt;DateTime&lt;/code&gt; valu...</td>\n",
       "      <td>1.0</td>\n",
       "      <td>...</td>\n",
       "      <td>2017-06-04 15:51:19</td>\n",
       "      <td>2020-12-10 16:10:19</td>\n",
       "      <td>Calculate relative time in C#</td>\n",
       "      <td>&lt;c#&gt;&lt;datetime&gt;&lt;time&gt;&lt;datediff&gt;&lt;relative-time-s...</td>\n",
       "      <td>39.0</td>\n",
       "      <td>3</td>\n",
       "      <td>547.0</td>\n",
       "      <td>NaN</td>\n",
       "      <td>2009-09-04 13:15:59</td>\n",
       "      <td>CC BY-SA 3.0</td>\n",
       "    </tr>\n",
       "  </tbody>\n",
       "</table>\n",
       "<p>5 rows × 23 columns</p>\n",
       "</div>"
      ],
      "text/plain": [
       "   Id  PostTypeId  AcceptedAnswerId  ParentId        CreationDate  \\\n",
       "0   4           1               7.0       NaN 2008-07-31 21:42:52   \n",
       "1   6           1              31.0       NaN 2008-07-31 22:08:08   \n",
       "2   7           2               NaN       4.0 2008-07-31 22:17:57   \n",
       "3   9           1            1404.0       NaN 2008-07-31 23:40:59   \n",
       "4  11           1            1248.0       NaN 2008-07-31 23:55:37   \n",
       "\n",
       "   DeletionDate  Score  ViewCount  \\\n",
       "0           NaN    724    58446.0   \n",
       "1           NaN    306    21619.0   \n",
       "2           NaN    482        NaN   \n",
       "3           NaN   2026   682001.0   \n",
       "4           NaN   1579   177528.0   \n",
       "\n",
       "                                                Body  OwnerUserId  ...  \\\n",
       "0  <p>I want to use a <code>Track-Bar</code> to c...          8.0  ...   \n",
       "1  <p>I have an absolutely positioned <code>div</...          9.0  ...   \n",
       "2  <p>An explicit cast to <code>double</code> lik...          9.0  ...   \n",
       "3  <p>Given a <code>DateTime</code> representing ...          1.0  ...   \n",
       "4  <p>Given a specific <code>DateTime</code> valu...          1.0  ...   \n",
       "\n",
       "          LastEditDate     LastActivityDate  \\\n",
       "0  2021-02-26 03:31:15  2021-02-26 03:31:15   \n",
       "1  2021-01-29 18:46:45  2021-01-29 18:46:45   \n",
       "2  2019-10-21 14:03:54  2019-10-21 14:03:54   \n",
       "3  2021-01-05 17:33:32  2021-01-30 08:44:27   \n",
       "4  2017-06-04 15:51:19  2020-12-10 16:10:19   \n",
       "\n",
       "                                               Title  \\\n",
       "0        How to convert a Decimal to a Double in C#?   \n",
       "1  Why did the width collapse in the percentage w...   \n",
       "2                                                NaN   \n",
       "3  How do I calculate someone's age based on a Da...   \n",
       "4                      Calculate relative time in C#   \n",
       "\n",
       "                                                Tags AnswerCount CommentCount  \\\n",
       "0  <c#><floating-point><type-conversion><double><...        14.0            5   \n",
       "1                   <html><css><internet-explorer-7>         7.0            0   \n",
       "2                                                NaN         NaN            0   \n",
       "3                               <c#><.net><datetime>        64.0            9   \n",
       "4  <c#><datetime><time><datediff><relative-time-s...        39.0            3   \n",
       "\n",
       "  FavoriteCount  ClosedDate   CommunityOwnedDate  ContentLicense  \n",
       "0          54.0         NaN  2012-10-31 16:42:47    CC BY-SA 4.0  \n",
       "1          12.0         NaN                  NaN    CC BY-SA 4.0  \n",
       "2           NaN         NaN                  NaN    CC BY-SA 4.0  \n",
       "3         476.0         NaN  2011-08-16 19:40:43    CC BY-SA 4.0  \n",
       "4         547.0         NaN  2009-09-04 13:15:59    CC BY-SA 3.0  \n",
       "\n",
       "[5 rows x 23 columns]"
      ]
     },
     "execution_count": 85,
     "metadata": {},
     "output_type": "execute_result"
    }
   ],
   "source": [
    "dataStack.head()"
   ]
  },
  {
   "cell_type": "code",
   "execution_count": 86,
   "id": "1eae8da3",
   "metadata": {},
   "outputs": [],
   "source": [
    "dataStack['Tags']=dataStack['Tags'].str.replace(\"<\",\"\")\n",
    "dataStack['Tags']=dataStack['Tags'].str.replace(\">\",\",\")\n",
    "dataStack['Tags']=dataStack['Tags'].str[:-1]"
   ]
  },
  {
   "cell_type": "code",
   "execution_count": 87,
   "id": "725dfe79",
   "metadata": {},
   "outputs": [
    {
     "data": {
      "text/plain": [
       "2008    26693\n",
       "Name: CreationDate, dtype: int64"
      ]
     },
     "execution_count": 87,
     "metadata": {},
     "output_type": "execute_result"
    }
   ],
   "source": [
    "dataStack['CreationDate'].dt.year.value_counts()"
   ]
  },
  {
   "cell_type": "code",
   "execution_count": 118,
   "id": "b0dbff16",
   "metadata": {},
   "outputs": [],
   "source": [
    "#function Tags list\n",
    "def getListTag(listToWork,sep,years=\"All\"):\n",
    "    tagList=[]\n",
    "    tempData = dataStack[dataStack['Tags'].notnull()].copy()\n",
    "    \n",
    "    if years != \"All\":\n",
    "        tempData = tempData[tempData['CreationDate'].dt.year==years]\n",
    "    for tags in tempData[listToWork]:\n",
    "        for mot in tags.split(sep):\n",
    "            tagList.append(mot)\n",
    "    tagList = pd.DataFrame(tagList)\n",
    "    return tagList"
   ]
  },
  {
   "cell_type": "code",
   "execution_count": 119,
   "id": "ba278b1f",
   "metadata": {},
   "outputs": [],
   "source": [
    "listTags = getListTag('Tags',',')"
   ]
  },
  {
   "cell_type": "code",
   "execution_count": 120,
   "id": "9d06ee46",
   "metadata": {},
   "outputs": [
    {
     "data": {
      "image/png": "[encoded data removed]",
      "text/plain": [
       "<Figure size 864x576 with 1 Axes>"
      ]
     },
     "metadata": {
      "needs_background": "light"
     },
     "output_type": "display_data"
    }
   ],
   "source": [
    "# Plot results of tags\n",
    "fig = plt.figure(figsize=(15, 10))\n",
    "\n",
    "listTags.value_counts().iloc[:30].plot(figsize=(12,8), kind=\"bar\",\n",
    "          title=\"Number of tags' occurence\",\n",
    "          ylabel=\"Nb occurence\",\n",
    "          xlabel=\"Tags\",\n",
    "          legend=False)\n",
    "plt.show()"
   ]
  },
  {
   "cell_type": "code",
   "execution_count": 114,
   "id": "bb5ff38f",
   "metadata": {},
   "outputs": [],
   "source": [
    "tempTag = dataStack[dataStack['Tags'].notnull()].copy()\n",
    "tempTag['NbrTag'] = tempTag['Tags'].apply(lambda x : len(x.split(',')))"
   ]
  },
  {
   "cell_type": "code",
   "execution_count": 115,
   "id": "cbc2bc4b",
   "metadata": {},
   "outputs": [
    {
     "data": {
      "image/png": "[encoded data removed]",
      "text/plain": [
       "<Figure size 864x576 with 1 Axes>"
      ]
     },
     "metadata": {
      "needs_background": "light"
     },
     "output_type": "display_data"
    }
   ],
   "source": [
    "# Plot results of tags\n",
    "fig = plt.figure(figsize=(15, 10))\n",
    "\n",
    "tempTag['NbrTag'].value_counts().plot(figsize=(12,8), kind=\"bar\",\n",
    "          title=\"Number of tags' occurence\",\n",
    "          ylabel=\"Nb occurence\",\n",
    "          xlabel=\"Tags\",\n",
    "          legend=False)\n",
    "plt.show()"
   ]
  },
  {
   "cell_type": "code",
   "execution_count": 116,
   "id": "017cbe7e",
   "metadata": {},
   "outputs": [],
   "source": [
    "# Tokenization\n",
    "tempTag['MainWordTitle'] = tempTag['Title'].apply(lambda x : nltk.word_tokenize(x))"
   ]
  },
  {
   "cell_type": "code",
   "execution_count": 121,
   "id": "c0dfa348",
   "metadata": {},
   "outputs": [
    {
     "data": {
      "text/html": [
       "<div>\n",
       "<style scoped>\n",
       "    .dataframe tbody tr th:only-of-type {\n",
       "        vertical-align: middle;\n",
       "    }\n",
       "\n",
       "    .dataframe tbody tr th {\n",
       "        vertical-align: top;\n",
       "    }\n",
       "\n",
       "    .dataframe thead th {\n",
       "        text-align: right;\n",
       "    }\n",
       "</style>\n",
       "<table border=\"1\" class=\"dataframe\">\n",
       "  <thead>\n",
       "    <tr style=\"text-align: right;\">\n",
       "      <th></th>\n",
       "      <th>0</th>\n",
       "    </tr>\n",
       "  </thead>\n",
       "  <tbody>\n",
       "    <tr>\n",
       "      <th>0</th>\n",
       "      <td>How</td>\n",
       "    </tr>\n",
       "    <tr>\n",
       "      <th>1</th>\n",
       "      <td>to</td>\n",
       "    </tr>\n",
       "    <tr>\n",
       "      <th>2</th>\n",
       "      <td>convert</td>\n",
       "    </tr>\n",
       "    <tr>\n",
       "      <th>3</th>\n",
       "      <td>a</td>\n",
       "    </tr>\n",
       "    <tr>\n",
       "      <th>4</th>\n",
       "      <td>Decimal</td>\n",
       "    </tr>\n",
       "    <tr>\n",
       "      <th>5</th>\n",
       "      <td>to</td>\n",
       "    </tr>\n",
       "    <tr>\n",
       "      <th>6</th>\n",
       "      <td>a</td>\n",
       "    </tr>\n",
       "    <tr>\n",
       "      <th>7</th>\n",
       "      <td>Double</td>\n",
       "    </tr>\n",
       "    <tr>\n",
       "      <th>8</th>\n",
       "      <td>in</td>\n",
       "    </tr>\n",
       "    <tr>\n",
       "      <th>9</th>\n",
       "      <td>C#?</td>\n",
       "    </tr>\n",
       "    <tr>\n",
       "      <th>10</th>\n",
       "      <td>Why</td>\n",
       "    </tr>\n",
       "    <tr>\n",
       "      <th>11</th>\n",
       "      <td>did</td>\n",
       "    </tr>\n",
       "    <tr>\n",
       "      <th>12</th>\n",
       "      <td>the</td>\n",
       "    </tr>\n",
       "    <tr>\n",
       "      <th>13</th>\n",
       "      <td>width</td>\n",
       "    </tr>\n",
       "    <tr>\n",
       "      <th>14</th>\n",
       "      <td>collapse</td>\n",
       "    </tr>\n",
       "    <tr>\n",
       "      <th>15</th>\n",
       "      <td>in</td>\n",
       "    </tr>\n",
       "    <tr>\n",
       "      <th>16</th>\n",
       "      <td>the</td>\n",
       "    </tr>\n",
       "    <tr>\n",
       "      <th>17</th>\n",
       "      <td>percentage</td>\n",
       "    </tr>\n",
       "    <tr>\n",
       "      <th>18</th>\n",
       "      <td>width</td>\n",
       "    </tr>\n",
       "    <tr>\n",
       "      <th>19</th>\n",
       "      <td>child</td>\n",
       "    </tr>\n",
       "  </tbody>\n",
       "</table>\n",
       "</div>"
      ],
      "text/plain": [
       "             0\n",
       "0          How\n",
       "1           to\n",
       "2      convert\n",
       "3            a\n",
       "4      Decimal\n",
       "5           to\n",
       "6            a\n",
       "7       Double\n",
       "8           in\n",
       "9          C#?\n",
       "10         Why\n",
       "11         did\n",
       "12         the\n",
       "13       width\n",
       "14    collapse\n",
       "15          in\n",
       "16         the\n",
       "17  percentage\n",
       "18       width\n",
       "19       child"
      ]
     },
     "execution_count": 121,
     "metadata": {},
     "output_type": "execute_result"
    }
   ],
   "source": [
    "listTitle = getListTag('Title', ' ')\n",
    "listTitle.head(20)"
   ]
  },
  {
   "cell_type": "code",
   "execution_count": 125,
   "id": "60a3e2e6",
   "metadata": {},
   "outputs": [
    {
     "data": {
      "image/png": "[encoded data removed]",
      "text/plain": [
       "<Figure size 864x576 with 1 Axes>"
      ]
     },
     "metadata": {
      "needs_background": "light"
     },
     "output_type": "display_data"
    }
   ],
   "source": [
    "# Plot results of tags\n",
    "fig = plt.figure(figsize=(15, 10))\n",
    "\n",
    "listTitle.value_counts().iloc[:15].plot(figsize=(12,8), kind=\"bar\",\n",
    "          title=\"Number of words in title occurence\",\n",
    "          ylabel=\"Nb occurence\",\n",
    "          xlabel=\"Words in title\",\n",
    "          legend=False)\n",
    "plt.show()"
   ]
  },
  {
   "cell_type": "code",
   "execution_count": 110,
   "id": "c6c0a3c8",
   "metadata": {},
   "outputs": [
    {
     "name": "stdout",
     "output_type": "stream",
     "text": [
      "{'further', \"won't\", \"wouldn't\", 'herself', 'off', 'on', 'she', \"you've\", 'your', \"that'll\", 'at', 'was', 'a', 'needn', \"mustn't\", 'will', 'hadn', 'they', 'having', 'most', 'hasn', 'whom', 've', 'do', 'the', 'than', \"shouldn't\", 'why', 'is', \"she's\", 'few', 'during', 'theirs', 'and', 'd', 'don', 'both', 'are', 'into', 'such', 'from', 'under', 'some', 'aren', 'each', 'doing', 'not', 're', \"hadn't\", 'wouldn', 'himself', 'over', 'be', 'those', 'can', 'shan', 'we', 'here', 'through', 'have', 'an', 'then', 'own', 'does', 'or', 'all', \"you're\", 'these', 'won', 'were', 'to', 'because', \"couldn't\", 'haven', \"needn't\", 'above', 'between', 'didn', 'down', 'it', 'with', 'while', 'its', 'now', 'other', 'just', 'll', 'been', 'him', 'about', 'only', 'yourselves', 'yours', 'ain', \"didn't\", \"aren't\", 'who', 'against', 'after', 'very', 'this', 'ma', 'my', 'did', 'wasn', 'm', 'their', 'doesn', 'any', \"should've\", 'yourself', 'what', 'so', 'he', 'up', 'had', 'out', \"you'd\", 'by', 'no', \"mightn't\", 'i', 'again', 'me', 'as', \"it's\", 'once', 'mustn', 'ours', 'before', 'them', 'until', 't', 'his', 'for', 'has', 'of', 'mightn', \"wasn't\", 'too', 'that', 'in', \"shan't\", 'when', 'same', 'itself', \"haven't\", 'below', 'weren', \"weren't\", 'hers', 'if', 'should', \"isn't\", 'themselves', 'ourselves', 'shouldn', \"don't\", 'am', 'y', 'which', 'being', \"doesn't\", 'you', 'but', 'couldn', \"you'll\", 'o', 'myself', 'how', \"hasn't\", 'our', 'her', 'there', 's', 'isn', 'nor', 'where', 'more'}\n"
     ]
    }
   ],
   "source": [
    "\n",
    "#StopWords\n",
    "sw = set()\n",
    "#sw.update(stopwords)\n",
    "sw.update(tuple(nltk.corpus.stopwords.words('english')))\n",
    "print(sw)\n",
    "\n",
    "#tempTag['MainWordTitle'] = tempTag['MainWordTitle']"
   ]
  },
  {
   "cell_type": "code",
   "execution_count": 104,
   "id": "fe1d52ba",
   "metadata": {},
   "outputs": [
    {
     "data": {
      "text/plain": [
       "0        [How, to, convert, a, Decimal, to, a, Double, ...\n",
       "1        [Why, did, the, width, collapse, in, the, perc...\n",
       "3        [How, do, I, calculate, someone, 's, age, base...\n",
       "4                    [Calculate, relative, time, in, C, #]\n",
       "6                       [Determine, a, user, 's, timezone]\n",
       "                               ...                        \n",
       "26674                                   [Task, Schedulers]\n",
       "26675    [Count, a, list, of, cells, with, the, same, b...\n",
       "26677    [How, to, remove, black, border, around, hyper...\n",
       "26679    [In, what, order, are, locations, searched, to...\n",
       "26688           [Really, killing, a, process, in, Windows]\n",
       "Name: MainWordTitle, Length: 5443, dtype: object"
      ]
     },
     "execution_count": 104,
     "metadata": {},
     "output_type": "execute_result"
    }
   ],
   "source": [
    "tempTag['MainWordTitle']"
   ]
  },
  {
   "cell_type": "code",
   "execution_count": null,
   "id": "7a657880",
   "metadata": {},
   "outputs": [],
   "source": []
  }
 ],
 "metadata": {
  "kernelspec": {
   "display_name": "Python 3",
   "language": "python",
   "name": "python3"
  },
  "language_info": {
   "codemirror_mode": {
    "name": "ipython",
    "version": 3
   },
   "file_extension": ".py",
   "mimetype": "text/x-python",
   "name": "python",
   "nbconvert_exporter": "python",
   "pygments_lexer": "ipython3",
   "version": "3.8.8"
  }
 },
 "nbformat": 4,
 "nbformat_minor": 5
}
