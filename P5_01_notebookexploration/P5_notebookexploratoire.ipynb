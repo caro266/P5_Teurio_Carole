{
 "cells": [
  {
   "cell_type": "code",
   "execution_count": 1,
   "id": "9ccb3995",
   "metadata": {},
   "outputs": [],
   "source": [
    "import pandas as pd\n",
    "import numpy as np\n",
    "import matplotlib.pyplot as plt\n",
    "import datetime\n",
    "import nltk\n",
    "import re\n",
    "import string\n",
    "import seaborn as sns"
   ]
  },
  {
   "cell_type": "code",
   "execution_count": 2,
   "id": "d6454258",
   "metadata": {},
   "outputs": [
    {
     "name": "stderr",
     "output_type": "stream",
     "text": [
      "[nltk_data] Downloading package punkt to /home/kro/nltk_data...\n",
      "[nltk_data]   Package punkt is already up-to-date!\n",
      "[nltk_data] Downloading package stopwords to /home/kro/nltk_data...\n",
      "[nltk_data]   Package stopwords is already up-to-date!\n"
     ]
    },
    {
     "data": {
      "text/plain": [
       "True"
      ]
     },
     "execution_count": 2,
     "metadata": {},
     "output_type": "execute_result"
    }
   ],
   "source": [
    "nltk.download('punkt')\n",
    "nltk.download('stopwords')"
   ]
  },
  {
   "cell_type": "code",
   "execution_count": 3,
   "id": "43769ae1",
   "metadata": {},
   "outputs": [
    {
     "name": "stdout",
     "output_type": "stream",
     "text": [
      "<class 'pandas.core.frame.DataFrame'>\n",
      "RangeIndex: 23617 entries, 0 to 23616\n",
      "Data columns (total 23 columns):\n",
      " #   Column                 Non-Null Count  Dtype         \n",
      "---  ------                 --------------  -----         \n",
      " 0   Id                     23617 non-null  int64         \n",
      " 1   PostTypeId             23617 non-null  int64         \n",
      " 2   AcceptedAnswerId       20773 non-null  float64       \n",
      " 3   ParentId               0 non-null      float64       \n",
      " 4   CreationDate           23617 non-null  datetime64[ns]\n",
      " 5   DeletionDate           0 non-null      float64       \n",
      " 6   Score                  23617 non-null  int64         \n",
      " 7   ViewCount              23617 non-null  int64         \n",
      " 8   Body                   23617 non-null  object        \n",
      " 9   OwnerUserId            23043 non-null  float64       \n",
      " 10  OwnerDisplayName       3989 non-null   object        \n",
      " 11  LastEditorUserId       21437 non-null  float64       \n",
      " 12  LastEditorDisplayName  2749 non-null   object        \n",
      " 13  LastEditDate           21740 non-null  object        \n",
      " 14  LastActivityDate       23617 non-null  object        \n",
      " 15  Title                  23617 non-null  object        \n",
      " 16  Tags                   23617 non-null  object        \n",
      " 17  AnswerCount            23617 non-null  int64         \n",
      " 18  CommentCount           23617 non-null  int64         \n",
      " 19  FavoriteCount          23617 non-null  int64         \n",
      " 20  ClosedDate             2497 non-null   object        \n",
      " 21  CommunityOwnedDate     737 non-null    object        \n",
      " 22  ContentLicense         23617 non-null  object        \n",
      "dtypes: datetime64[ns](1), float64(5), int64(7), object(10)\n",
      "memory usage: 4.1+ MB\n"
     ]
    }
   ],
   "source": [
    "dataStack = pd.read_csv(\"../QueryResults.csv\")\n",
    "dataStack[\"CreationDate\"] = pd.to_datetime(dataStack[\"CreationDate\"],format='%Y-%m-%d %H:%M:%S')\n",
    "dataStack.info()"
   ]
  },
  {
   "cell_type": "code",
   "execution_count": 4,
   "id": "9c2ab1d7",
   "metadata": {},
   "outputs": [
    {
     "data": {
      "text/html": [
       "<div>\n",
       "<style scoped>\n",
       "    .dataframe tbody tr th:only-of-type {\n",
       "        vertical-align: middle;\n",
       "    }\n",
       "\n",
       "    .dataframe tbody tr th {\n",
       "        vertical-align: top;\n",
       "    }\n",
       "\n",
       "    .dataframe thead th {\n",
       "        text-align: right;\n",
       "    }\n",
       "</style>\n",
       "<table border=\"1\" class=\"dataframe\">\n",
       "  <thead>\n",
       "    <tr style=\"text-align: right;\">\n",
       "      <th></th>\n",
       "      <th>Id</th>\n",
       "      <th>PostTypeId</th>\n",
       "      <th>AcceptedAnswerId</th>\n",
       "      <th>ParentId</th>\n",
       "      <th>CreationDate</th>\n",
       "      <th>DeletionDate</th>\n",
       "      <th>Score</th>\n",
       "      <th>ViewCount</th>\n",
       "      <th>Body</th>\n",
       "      <th>OwnerUserId</th>\n",
       "      <th>...</th>\n",
       "      <th>LastEditDate</th>\n",
       "      <th>LastActivityDate</th>\n",
       "      <th>Title</th>\n",
       "      <th>Tags</th>\n",
       "      <th>AnswerCount</th>\n",
       "      <th>CommentCount</th>\n",
       "      <th>FavoriteCount</th>\n",
       "      <th>ClosedDate</th>\n",
       "      <th>CommunityOwnedDate</th>\n",
       "      <th>ContentLicense</th>\n",
       "    </tr>\n",
       "  </thead>\n",
       "  <tbody>\n",
       "    <tr>\n",
       "      <th>0</th>\n",
       "      <td>7284</td>\n",
       "      <td>1</td>\n",
       "      <td>7320.0</td>\n",
       "      <td>NaN</td>\n",
       "      <td>2008-08-10 18:41:02</td>\n",
       "      <td>NaN</td>\n",
       "      <td>559</td>\n",
       "      <td>207501</td>\n",
       "      <td>&lt;p&gt;What does the expression \"Turing Complete\" ...</td>\n",
       "      <td>198.0</td>\n",
       "      <td>...</td>\n",
       "      <td>2012-06-23 00:22:15</td>\n",
       "      <td>2021-04-10 17:47:05</td>\n",
       "      <td>What is Turing Complete?</td>\n",
       "      <td>&lt;theory&gt;&lt;turing-machines&gt;&lt;turing-complete&gt;</td>\n",
       "      <td>15</td>\n",
       "      <td>1</td>\n",
       "      <td>182</td>\n",
       "      <td>NaN</td>\n",
       "      <td>NaN</td>\n",
       "      <td>CC BY-SA 3.0</td>\n",
       "    </tr>\n",
       "    <tr>\n",
       "      <th>1</th>\n",
       "      <td>7477</td>\n",
       "      <td>1</td>\n",
       "      <td>7523.0</td>\n",
       "      <td>NaN</td>\n",
       "      <td>2008-08-11 01:43:13</td>\n",
       "      <td>NaN</td>\n",
       "      <td>123</td>\n",
       "      <td>145744</td>\n",
       "      <td>&lt;p&gt;I'm currently working on an internal sales ...</td>\n",
       "      <td>841.0</td>\n",
       "      <td>...</td>\n",
       "      <td>2019-01-03 06:54:14</td>\n",
       "      <td>2020-03-09 14:10:06</td>\n",
       "      <td>How to autosize a textarea using Prototype?</td>\n",
       "      <td>&lt;javascript&gt;&lt;html&gt;&lt;css&gt;&lt;textarea&gt;&lt;prototypejs&gt;</td>\n",
       "      <td>18</td>\n",
       "      <td>4</td>\n",
       "      <td>67</td>\n",
       "      <td>NaN</td>\n",
       "      <td>NaN</td>\n",
       "      <td>CC BY-SA 4.0</td>\n",
       "    </tr>\n",
       "    <tr>\n",
       "      <th>2</th>\n",
       "      <td>7492</td>\n",
       "      <td>1</td>\n",
       "      <td>NaN</td>\n",
       "      <td>NaN</td>\n",
       "      <td>2008-08-11 03:00:26</td>\n",
       "      <td>NaN</td>\n",
       "      <td>246</td>\n",
       "      <td>160754</td>\n",
       "      <td>&lt;p&gt;In the past, I used Microsoft Web Applicati...</td>\n",
       "      <td>556.0</td>\n",
       "      <td>...</td>\n",
       "      <td>2017-10-25 14:52:17</td>\n",
       "      <td>2018-08-30 15:01:26</td>\n",
       "      <td>Performing a Stress Test on Web Application?</td>\n",
       "      <td>&lt;web-applications&gt;&lt;stress-testing&gt;&lt;performance...</td>\n",
       "      <td>30</td>\n",
       "      <td>0</td>\n",
       "      <td>174</td>\n",
       "      <td>NaN</td>\n",
       "      <td>NaN</td>\n",
       "      <td>CC BY-SA 3.0</td>\n",
       "    </tr>\n",
       "    <tr>\n",
       "      <th>3</th>\n",
       "      <td>17732</td>\n",
       "      <td>1</td>\n",
       "      <td>NaN</td>\n",
       "      <td>NaN</td>\n",
       "      <td>2008-08-20 11:01:19</td>\n",
       "      <td>NaN</td>\n",
       "      <td>175</td>\n",
       "      <td>59340</td>\n",
       "      <td>&lt;p&gt;There's a &lt;a href=\"http://groups.google.com...</td>\n",
       "      <td>2095.0</td>\n",
       "      <td>...</td>\n",
       "      <td>2017-05-23 11:47:25</td>\n",
       "      <td>2020-10-16 17:24:22</td>\n",
       "      <td>When should assertions stay in production code?</td>\n",
       "      <td>&lt;assert&gt;</td>\n",
       "      <td>17</td>\n",
       "      <td>1</td>\n",
       "      <td>60</td>\n",
       "      <td>2020-03-24 06:04:04</td>\n",
       "      <td>2010-06-10 14:39:45</td>\n",
       "      <td>CC BY-SA 2.5</td>\n",
       "    </tr>\n",
       "    <tr>\n",
       "      <th>4</th>\n",
       "      <td>17806</td>\n",
       "      <td>1</td>\n",
       "      <td>2137718.0</td>\n",
       "      <td>NaN</td>\n",
       "      <td>2008-08-20 12:00:59</td>\n",
       "      <td>NaN</td>\n",
       "      <td>340</td>\n",
       "      <td>194826</td>\n",
       "      <td>&lt;p&gt;I am currently developing a .NET applicatio...</td>\n",
       "      <td>2078.0</td>\n",
       "      <td>...</td>\n",
       "      <td>2021-05-26 18:59:42</td>\n",
       "      <td>2021-05-26 18:59:42</td>\n",
       "      <td>Warning: Found conflicts between different ver...</td>\n",
       "      <td>&lt;.net&gt;&lt;warnings&gt;</td>\n",
       "      <td>19</td>\n",
       "      <td>0</td>\n",
       "      <td>64</td>\n",
       "      <td>NaN</td>\n",
       "      <td>NaN</td>\n",
       "      <td>CC BY-SA 4.0</td>\n",
       "    </tr>\n",
       "  </tbody>\n",
       "</table>\n",
       "<p>5 rows × 23 columns</p>\n",
       "</div>"
      ],
      "text/plain": [
       "      Id  PostTypeId  AcceptedAnswerId  ParentId        CreationDate  \\\n",
       "0   7284           1            7320.0       NaN 2008-08-10 18:41:02   \n",
       "1   7477           1            7523.0       NaN 2008-08-11 01:43:13   \n",
       "2   7492           1               NaN       NaN 2008-08-11 03:00:26   \n",
       "3  17732           1               NaN       NaN 2008-08-20 11:01:19   \n",
       "4  17806           1         2137718.0       NaN 2008-08-20 12:00:59   \n",
       "\n",
       "   DeletionDate  Score  ViewCount  \\\n",
       "0           NaN    559     207501   \n",
       "1           NaN    123     145744   \n",
       "2           NaN    246     160754   \n",
       "3           NaN    175      59340   \n",
       "4           NaN    340     194826   \n",
       "\n",
       "                                                Body  OwnerUserId  ...  \\\n",
       "0  <p>What does the expression \"Turing Complete\" ...        198.0  ...   \n",
       "1  <p>I'm currently working on an internal sales ...        841.0  ...   \n",
       "2  <p>In the past, I used Microsoft Web Applicati...        556.0  ...   \n",
       "3  <p>There's a <a href=\"http://groups.google.com...       2095.0  ...   \n",
       "4  <p>I am currently developing a .NET applicatio...       2078.0  ...   \n",
       "\n",
       "          LastEditDate     LastActivityDate  \\\n",
       "0  2012-06-23 00:22:15  2021-04-10 17:47:05   \n",
       "1  2019-01-03 06:54:14  2020-03-09 14:10:06   \n",
       "2  2017-10-25 14:52:17  2018-08-30 15:01:26   \n",
       "3  2017-05-23 11:47:25  2020-10-16 17:24:22   \n",
       "4  2021-05-26 18:59:42  2021-05-26 18:59:42   \n",
       "\n",
       "                                               Title  \\\n",
       "0                           What is Turing Complete?   \n",
       "1        How to autosize a textarea using Prototype?   \n",
       "2       Performing a Stress Test on Web Application?   \n",
       "3    When should assertions stay in production code?   \n",
       "4  Warning: Found conflicts between different ver...   \n",
       "\n",
       "                                                Tags AnswerCount CommentCount  \\\n",
       "0         <theory><turing-machines><turing-complete>          15            1   \n",
       "1     <javascript><html><css><textarea><prototypejs>          18            4   \n",
       "2  <web-applications><stress-testing><performance...          30            0   \n",
       "3                                           <assert>          17            1   \n",
       "4                                   <.net><warnings>          19            0   \n",
       "\n",
       "  FavoriteCount           ClosedDate   CommunityOwnedDate  ContentLicense  \n",
       "0           182                  NaN                  NaN    CC BY-SA 3.0  \n",
       "1            67                  NaN                  NaN    CC BY-SA 4.0  \n",
       "2           174                  NaN                  NaN    CC BY-SA 3.0  \n",
       "3            60  2020-03-24 06:04:04  2010-06-10 14:39:45    CC BY-SA 2.5  \n",
       "4            64                  NaN                  NaN    CC BY-SA 4.0  \n",
       "\n",
       "[5 rows x 23 columns]"
      ]
     },
     "execution_count": 4,
     "metadata": {},
     "output_type": "execute_result"
    }
   ],
   "source": [
    "dataStack.head()"
   ]
  },
  {
   "cell_type": "code",
   "execution_count": 5,
   "id": "92c71195",
   "metadata": {},
   "outputs": [],
   "source": [
    "def nettoyageGe(listToClean):\n",
    "    # Lower case\n",
    "    locList = listToClean.str.lower()\n",
    "    #Delete some ponctuation\n",
    "    ponct = \"?,:\\/@\"\n",
    "    print(locList)\n",
    "    locList = locList.apply(lambda x : ''.join([i for i in x if not i in ponct]))\n",
    "    \n",
    "    #Delete digit\n",
    "    #Delete number\n",
    "    #locList = locList.apply(lambda x : re.sub('<[^<]+?>', '', x))\n",
    "    locList = locList.apply(lambda x : ''.join([i for i in x if not i.isdigit()]))\n",
    "    locList = locList.str.replace(\"\\n\",\" \")\n",
    "    print(locList)\n",
    "    locList = locList.str.replace(\"i'm\",\"i am\")\n",
    "    locList = locList.str.replace(\"i've\",\"i have\")\n",
    "    locList = locList.str.replace(\"i'd\",\"i would\")\n",
    "    locList = locList.str.replace(\"don't\",\"do not\")\n",
    "\n",
    "    \n",
    "    return(locList)"
   ]
  },
  {
   "cell_type": "code",
   "execution_count": 6,
   "id": "ac7403d9",
   "metadata": {},
   "outputs": [],
   "source": [
    "dataStack['MainTags']=dataStack['Tags'].str.replace(\"<\",\"\")\n",
    "dataStack['MainTags']=dataStack['MainTags'].str.replace(\">\",\",\")\n",
    "dataStack['MainTags']=dataStack['MainTags'].str[:-1]"
   ]
  },
  {
   "cell_type": "code",
   "execution_count": 7,
   "id": "d6b69e0b",
   "metadata": {},
   "outputs": [
    {
     "data": {
      "text/plain": [
       "2009    4534\n",
       "2010    4069\n",
       "2011    3694\n",
       "2012    2904\n",
       "2008    2682\n",
       "2013    2402\n",
       "2014    1388\n",
       "2015     859\n",
       "2016     591\n",
       "2017     325\n",
       "2018     119\n",
       "2019      43\n",
       "2020       7\n",
       "Name: CreationDate, dtype: int64"
      ]
     },
     "execution_count": 7,
     "metadata": {},
     "output_type": "execute_result"
    }
   ],
   "source": [
    "dataStack['CreationDate'].dt.year.value_counts()"
   ]
  },
  {
   "cell_type": "code",
   "execution_count": 8,
   "id": "c92fa819",
   "metadata": {},
   "outputs": [
    {
     "data": {
      "image/png": "[encoded data removed]",
      "text/plain": [
       "<Figure size 1080x432 with 1 Axes>"
      ]
     },
     "metadata": {
      "needs_background": "light"
     },
     "output_type": "display_data"
    }
   ],
   "source": [
    "# Convert\n",
    "dataStack['CreationDate'] = pd.to_datetime(dataStack['CreationDate'])\n",
    "\n",
    "# Groupby\n",
    "post_year = dataStack.groupby(pd.Grouper(key='CreationDate',\n",
    "                                    freq='1Y')).agg({'Title': 'count'})\n",
    "\n",
    "# Evolution\n",
    "fig = plt.figure(figsize=(15,6))\n",
    "sns.lineplot(data=post_year, x=post_year.index, y='Title')\n",
    "plt.axhline(post_year.Title.mean(), \n",
    "            color=\"r\", linestyle='--',\n",
    "            label=\"Mean of question per year : {:04d}\"\\\n",
    "                   .format(int(post_year.Title.mean())))\n",
    "plt.xlabel(\"Date of questions\")\n",
    "plt.ylabel(\"Number of questions\")\n",
    "plt.title(\"Number of questions evolution from 2009 to 2020\",\n",
    "          fontsize=18, color=\"#641E16\")\n",
    "plt.legend()\n",
    "plt.show()"
   ]
  },
  {
   "cell_type": "markdown",
   "id": "48b4e929",
   "metadata": {},
   "source": [
    "# Tags"
   ]
  },
  {
   "cell_type": "code",
   "execution_count": 9,
   "id": "e7e64a51",
   "metadata": {},
   "outputs": [],
   "source": [
    "#function Tags list\n",
    "def getListTag(listToWork,sep,years=\"All\"):\n",
    "    tagList=[]\n",
    "    tempData = dataStack[dataStack['Tags'].notnull()].copy()\n",
    "    \n",
    "    if years != \"All\":\n",
    "        tempData = tempData[tempData['CreationDate'].dt.year==years]\n",
    "    for tags in tempData[listToWork]:\n",
    "        for mot in tags.split(sep):\n",
    "            tagList.append(mot)\n",
    "    tagList = pd.DataFrame(tagList).value_counts()\n",
    "    tagList = pd.DataFrame(tagList)\n",
    "    \n",
    "    tagList.rename(columns={0: 'Nbr'},inplace=True)\n",
    "    tagList = tagList.reset_index()\n",
    "    return tagList"
   ]
  },
  {
   "cell_type": "code",
   "execution_count": 10,
   "id": "5b4fcf82",
   "metadata": {},
   "outputs": [
    {
     "name": "stdout",
     "output_type": "stream",
     "text": [
      "                     0   Nbr\n",
      "0           javascript  2545\n",
      "1               python  2507\n",
      "2                 java  2012\n",
      "3              android  1627\n",
      "4                  git  1263\n",
      "...                ...   ...\n",
      "7648     php-internals     1\n",
      "7649              php4     1\n",
      "7650            phpdoc     1\n",
      "7651  face-recognition     1\n",
      "7652      lateral-join     1\n",
      "\n",
      "[7653 rows x 2 columns]\n"
     ]
    }
   ],
   "source": [
    "listTags = getListTag('MainTags',',')\n",
    "print(listTags)\n",
    "listTags = listTags.iloc[:30]"
   ]
  },
  {
   "cell_type": "code",
   "execution_count": 11,
   "id": "593abf11",
   "metadata": {},
   "outputs": [
    {
     "data": {
      "text/plain": [
       "<Figure size 1080x720 with 0 Axes>"
      ]
     },
     "metadata": {},
     "output_type": "display_data"
    },
    {
     "data": {
      "image/png": "[encoded data removed]",
      "text/plain": [
       "<Figure size 864x576 with 1 Axes>"
      ]
     },
     "metadata": {
      "needs_background": "light"
     },
     "output_type": "display_data"
    }
   ],
   "source": [
    "# Plot results of tags\n",
    "fig = plt.figure(figsize=(15, 10))\n",
    "\n",
    "listTags.plot(figsize=(12,8), kind=\"bar\",\n",
    "          title=\"Number of tags' occurence\",\n",
    "          ylabel=\"Nb occurence\",\n",
    "          xlabel=\"Tags\",\n",
    "          legend=False)\n",
    "plt.xticks(np.arange(len(listTags)),listTags[0])\n",
    "plt.show()"
   ]
  },
  {
   "cell_type": "code",
   "execution_count": 12,
   "id": "9f578aba",
   "metadata": {},
   "outputs": [],
   "source": [
    "def keep_info(listInfo,toKeep):\n",
    "    \"\"\"Return the list of information which is in the 'keep list'\"\"\"\n",
    "    loc = []\n",
    "    try:\n",
    "        listInfo=str(listInfo)\n",
    "        if listInfo != 'nan':\n",
    "            for word in listInfo.split(','):\n",
    "                if word in toKeep[0].values:\n",
    "                    loc.append(word)\n",
    "    except:\n",
    "        print(\"Except \",listInfo)\n",
    "    return loc\n",
    "\n",
    "def remove_info(listInfo,toKeep):\n",
    "    \"\"\"Return the list of information which isnot in the 'keep list'\"\"\"\n",
    "    loc = []\n",
    "    try:\n",
    "        listInfo=str(listInfo)\n",
    "        if listInfo != 'nan':\n",
    "            for word in listInfo.split(' '):\n",
    "                if word not in toKeep:\n",
    "                    loc.append(word)\n",
    "    except:\n",
    "        print(\"Except \",listInfo)\n",
    "    return loc"
   ]
  },
  {
   "cell_type": "code",
   "execution_count": 13,
   "id": "ef75b671",
   "metadata": {},
   "outputs": [],
   "source": [
    "# keep top 50 tags\n",
    "dataStack['MainTags']=dataStack['MainTags'].apply(lambda x : keep_info(x,listTags))"
   ]
  },
  {
   "cell_type": "code",
   "execution_count": 14,
   "id": "eb1b9511",
   "metadata": {},
   "outputs": [],
   "source": [
    "tempTag = dataStack[dataStack['Tags'].notnull()].copy()\n",
    "tempTag['NbrTag'] = tempTag['Tags'].apply(lambda x : len(x))"
   ]
  },
  {
   "cell_type": "code",
   "execution_count": 15,
   "id": "8e265749",
   "metadata": {},
   "outputs": [
    {
     "data": {
      "image/png": "[encoded data removed]",
      "text/plain": [
       "<Figure size 864x576 with 1 Axes>"
      ]
     },
     "metadata": {
      "needs_background": "light"
     },
     "output_type": "display_data"
    }
   ],
   "source": [
    "# Plot results of tags\n",
    "fig = plt.figure(figsize=(15, 10))\n",
    "\n",
    "tempTag['NbrTag'].value_counts().plot(figsize=(12,8), kind=\"bar\",\n",
    "          title=\"Number of tags' occurence\",\n",
    "          ylabel=\"Nb occurence\",\n",
    "          xlabel=\"Tags\",\n",
    "          legend=False)\n",
    "plt.show()"
   ]
  },
  {
   "cell_type": "markdown",
   "id": "10334d36",
   "metadata": {},
   "source": [
    "# Title"
   ]
  },
  {
   "cell_type": "code",
   "execution_count": 16,
   "id": "f7b8b91d",
   "metadata": {},
   "outputs": [
    {
     "name": "stdout",
     "output_type": "stream",
     "text": [
      "0                                 what is turing complete?\n",
      "1              how to autosize a textarea using prototype?\n",
      "2             performing a stress test on web application?\n",
      "3          when should assertions stay in production code?\n",
      "4        warning: found conflicts between different ver...\n",
      "                               ...                        \n",
      "23612               how do i run a single test using jest?\n",
      "23613    convert:not authorized `aaaa` @ error/constitu...\n",
      "23614    how to transform black into any given color us...\n",
      "23615    intuitive understanding of 1d, 2d, and 3d conv...\n",
      "23616    what is the difference between .net core and ....\n",
      "Name: Title, Length: 23617, dtype: object\n",
      "0                                  what is turing complete\n",
      "1               how to autosize a textarea using prototype\n",
      "2              performing a stress test on web application\n",
      "3           when should assertions stay in production code\n",
      "4        warning found conflicts between different vers...\n",
      "                               ...                        \n",
      "23612                how do i run a single test using jest\n",
      "23613    convertnot authorized `aaaa`  errorconstitute....\n",
      "23614    how to transform black into any given color us...\n",
      "23615    intuitive understanding of d d and d convoluti...\n",
      "23616    what is the difference between .net core and ....\n",
      "Name: Title, Length: 23617, dtype: object\n"
     ]
    }
   ],
   "source": [
    "# Tokenization\n",
    "#Seperate c# avec nltk.word_tokenize\n",
    "dataStack['MainWordTitle'] = nettoyageGe(dataStack['Title'])"
   ]
  },
  {
   "cell_type": "code",
   "execution_count": 17,
   "id": "cce7cb75",
   "metadata": {},
   "outputs": [],
   "source": [
    "listTitle = getListTag('MainWordTitle', ' ')"
   ]
  },
  {
   "cell_type": "code",
   "execution_count": 18,
   "id": "da6df6f1",
   "metadata": {},
   "outputs": [
    {
     "data": {
      "text/plain": [
       "<Figure size 1080x720 with 0 Axes>"
      ]
     },
     "metadata": {},
     "output_type": "display_data"
    },
    {
     "data": {
      "image/png": "[encoded data removed]",
      "text/plain": [
       "<Figure size 864x576 with 1 Axes>"
      ]
     },
     "metadata": {
      "needs_background": "light"
     },
     "output_type": "display_data"
    }
   ],
   "source": [
    "# Plot results of tags\n",
    "fig = plt.figure(figsize=(15, 10))\n",
    "\n",
    "listTitle.iloc[:20].plot(figsize=(12,8), kind=\"bar\",\n",
    "          title=\"Number of words in title occurence\",\n",
    "          ylabel=\"Nb occurence\",\n",
    "          xlabel=\"Words in title\",\n",
    "          legend=False)\n",
    "plt.xticks(np.arange(20),listTitle.iloc[:20][0])\n",
    "plt.show()"
   ]
  },
  {
   "cell_type": "code",
   "execution_count": 19,
   "id": "8a69b2d7",
   "metadata": {},
   "outputs": [],
   "source": [
    "stopWords = listTitle.iloc[:20][0]"
   ]
  },
  {
   "cell_type": "code",
   "execution_count": 20,
   "id": "76fdf511",
   "metadata": {},
   "outputs": [
    {
     "name": "stdout",
     "output_type": "stream",
     "text": [
      "0                               ['turing', 'complete']\n",
      "1                ['autosize', 'textarea', 'prototype']\n",
      "2    ['performing', 'stress', 'test', 'web', 'appli...\n",
      "3         ['assertions', 'stay', 'production', 'code']\n",
      "4    ['warning', 'found', 'conflicts', 'different',...\n",
      "Name: MainWordTitle, dtype: object\n"
     ]
    }
   ],
   "source": [
    "#StopWords\n",
    "\n",
    "sw = set()\n",
    "sw.update(stopWords)\n",
    "sw.update(tuple(nltk.corpus.stopwords.words('english')))\n",
    "#print(sw)\n",
    "#tempTag['MainWordTitle'] = tempTag['MainWordTitle']\n",
    "# remove stopword\n",
    "dataStack['MainWordTitle'] = dataStack['MainWordTitle'].apply(lambda x : str(remove_info(x,sw)))\n",
    "print(dataStack['MainWordTitle'].head())"
   ]
  },
  {
   "cell_type": "markdown",
   "id": "585a8b13",
   "metadata": {},
   "source": [
    "# Body"
   ]
  },
  {
   "cell_type": "code",
   "execution_count": 21,
   "id": "fe5eacde",
   "metadata": {},
   "outputs": [
    {
     "name": "stdout",
     "output_type": "stream",
     "text": [
      "0        <p>what does the expression \"turing complete\" ...\n",
      "1        <p>i'm currently working on an internal sales ...\n",
      "2        <p>in the past, i used microsoft web applicati...\n",
      "3        <p>there's a <a href=\"http://groups.google.com...\n",
      "4        <p>i am currently developing a .net applicatio...\n",
      "                               ...                        \n",
      "23612    <p>i have a test 'works with nested children' ...\n",
      "23613    <p>i want to create a captcha pic by use <code...\n",
      "23614    <p>my question is: given a target rgb color, w...\n",
      "23615    <p>can anyone please clearly explain the diffe...\n",
      "23616    <p>in visual studio, there are at least three ...\n",
      "Name: Body, Length: 23617, dtype: object\n",
      "0        <p>what does the expression \"turing complete\" ...\n",
      "1        <p>i'm currently working on an internal sales ...\n",
      "2        <p>in the past i used microsoft web applicatio...\n",
      "3        <p>there's a <a href=\"httpgroups.google.comgro...\n",
      "4        <p>i am currently developing a .net applicatio...\n",
      "                               ...                        \n",
      "23612    <p>i have a test 'works with nested children' ...\n",
      "23613    <p>i want to create a captcha pic by use <code...\n",
      "23614    <p>my question is given a target rgb color wha...\n",
      "23615    <p>can anyone please clearly explain the diffe...\n",
      "23616    <p>in visual studio there are at least three d...\n",
      "Name: Body, Length: 23617, dtype: object\n"
     ]
    }
   ],
   "source": [
    "dataStack['MainWordBody'] = nettoyageGe(dataStack['Body'])\n",
    "# Delete htlm tags\n",
    "dataStack['MainWordBody'] = dataStack['MainWordBody'].apply(lambda x : re.sub('<[^<]+?>', '', x))\n"
   ]
  },
  {
   "cell_type": "code",
   "execution_count": 22,
   "id": "0805ef0e",
   "metadata": {},
   "outputs": [
    {
     "name": "stdout",
     "output_type": "stream",
     "text": [
      "                   0     Nbr\n",
      "0                     817525\n",
      "1                the  103648\n",
      "2                  i   85148\n",
      "3                 to   74885\n",
      "4                  a   57067\n",
      "...              ...     ...\n",
      "169028          get(       1\n",
      "169029  'scientific'       1\n",
      "169030  get$.get(..)       1\n",
      "169031         get\".       1\n",
      "169032            😀]       1\n",
      "\n",
      "[169033 rows x 2 columns]\n"
     ]
    }
   ],
   "source": [
    "listBody = getListTag('MainWordBody', ' ')\n",
    "print(listBody)\n",
    "listBody = listBody.iloc[:110]"
   ]
  },
  {
   "cell_type": "code",
   "execution_count": 23,
   "id": "3e257a19",
   "metadata": {},
   "outputs": [
    {
     "data": {
      "text/plain": [
       "<Figure size 1440x720 with 0 Axes>"
      ]
     },
     "metadata": {},
     "output_type": "display_data"
    },
    {
     "data": {
      "image/png": "[encoded data removed]",
      "text/plain": [
       "<Figure size 864x576 with 1 Axes>"
      ]
     },
     "metadata": {
      "needs_background": "light"
     },
     "output_type": "display_data"
    }
   ],
   "source": [
    "# Plot results of tags\n",
    "fig = plt.figure(figsize=(20, 10))\n",
    "\n",
    "listBody.plot(figsize=(12,8), kind=\"bar\",\n",
    "          title=\"Number of words in title occurence\",\n",
    "          ylabel=\"Nb occurence\",\n",
    "          xlabel=\"Words in title\",\n",
    "          legend=False)\n",
    "plt.xticks(np.arange(len(listBody)),listBody[0])\n",
    "plt.show()"
   ]
  },
  {
   "cell_type": "code",
   "execution_count": 24,
   "id": "edbbcf19",
   "metadata": {},
   "outputs": [],
   "source": [
    "stopWords = listBody.iloc[:20][0]"
   ]
  },
  {
   "cell_type": "code",
   "execution_count": 25,
   "id": "62471885",
   "metadata": {},
   "outputs": [
    {
     "name": "stdout",
     "output_type": "stream",
     "text": [
      "0    [expression, \"turing, complete\", mean, give, s...\n",
      "1    [currently, working, internal, sales, applicat...\n",
      "2    [past, used, microsoft, web, application, stre...\n",
      "3    [there's, discussion, going, comp.lang.c++.mod...\n",
      "4    [currently, developing, .net, application, con...\n",
      "Name: MainWordBody, dtype: object\n"
     ]
    }
   ],
   "source": [
    "#StopWords\n",
    "sw = set()\n",
    "sw.update(stopWords)\n",
    "sw.update(tuple(nltk.corpus.stopwords.words('english')))\n",
    "\n",
    "# remove stopword\n",
    "dataStack['MainWordBody'] = dataStack['MainWordBody'].apply(lambda x : remove_info(x,sw))\n",
    "print(dataStack['MainWordBody'].head())"
   ]
  },
  {
   "cell_type": "markdown",
   "id": "ec75ad02",
   "metadata": {},
   "source": [
    "# Data saved"
   ]
  },
  {
   "cell_type": "code",
   "execution_count": 26,
   "id": "ec70ea53",
   "metadata": {},
   "outputs": [],
   "source": [
    "dataStack[['Id','MainTags','MainWordBody','MainWordTitle']].to_csv(\"../QueryResults_Clear.csv\",index=False)"
   ]
  },
  {
   "cell_type": "code",
   "execution_count": null,
   "id": "f2c05ce3",
   "metadata": {},
   "outputs": [],
   "source": []
  },
  {
   "cell_type": "code",
   "execution_count": null,
   "id": "75d0593f",
   "metadata": {},
   "outputs": [],
   "source": []
  }
 ],
 "metadata": {
  "kernelspec": {
   "display_name": "Python 3",
   "language": "python",
   "name": "python3"
  },
  "language_info": {
   "codemirror_mode": {
    "name": "ipython",
    "version": 3
   },
   "file_extension": ".py",
   "mimetype": "text/x-python",
   "name": "python",
   "nbconvert_exporter": "python",
   "pygments_lexer": "ipython3",
   "version": "3.8.8"
  }
 },
 "nbformat": 4,
 "nbformat_minor": 5
}
